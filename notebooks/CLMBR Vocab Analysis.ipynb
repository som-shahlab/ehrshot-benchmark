{
 "cells": [
  {
   "cell_type": "code",
   "execution_count": 18,
   "metadata": {},
   "outputs": [],
   "source": [
    "import pandas as pd\n",
    "import json\n",
    "from huggingface_hub import hf_hub_download\n",
    "import collections"
   ]
  },
  {
   "cell_type": "markdown",
   "metadata": {},
   "source": [
    "# Set Up"
   ]
  },
  {
   "cell_type": "code",
   "execution_count": 12,
   "metadata": {},
   "outputs": [
    {
     "name": "stdout",
     "output_type": "stream",
     "text": [
      "Saved to: /Users/mwornow/.cache/huggingface/hub/models--StanfordShahLab--clmbr-t-base/snapshots/33d720931853fb1e0f77ffb50244219c9158db4b/clmbr_v8_original_dictionary.json\n"
     ]
    }
   ],
   "source": [
    "# Download CLMBR config\n",
    "path_to_config_json = hf_hub_download(\n",
    "    repo_id=\"StanfordShahLab/clmbr-t-base\",\n",
    "    filename=\"clmbr_v8_original_dictionary.json\"\n",
    ")\n",
    "print(f\"Saved to: {path_to_config_json}\")\n",
    "\n",
    "# Read CLMBR vocab config\n",
    "with open(path_to_config_json, 'r') as f:\n",
    "    config = json.load(f)"
   ]
  },
  {
   "cell_type": "code",
   "execution_count": 13,
   "metadata": {},
   "outputs": [
    {
     "name": "stdout",
     "output_type": "stream",
     "text": [
      "dict_keys(['age_stats', 'is_hierarchical', 'regular'])\n"
     ]
    }
   ],
   "source": [
    "# Print keys in config\n",
    "print(config.keys())"
   ]
  },
  {
   "cell_type": "markdown",
   "metadata": {},
   "source": [
    "# Overview"
   ]
  },
  {
   "cell_type": "markdown",
   "metadata": {},
   "source": [
    "What does each token in the vocabulary look like?"
   ]
  },
  {
   "cell_type": "code",
   "execution_count": null,
   "metadata": {},
   "outputs": [
    {
     "data": {
      "text/plain": [
       "{'code_string': 'SNOMED/3950001',\n",
       " 'text_string': '',\n",
       " 'type': 'code',\n",
       " 'val_end': 0.0,\n",
       " 'val_start': 0.0,\n",
       " 'weight': -0.18811663446051943}"
      ]
     },
     "metadata": {},
     "output_type": "display_data"
    }
   ],
   "source": [
    "# Print example token in vocab\n",
    "config['regular'][0]"
   ]
  },
  {
   "cell_type": "markdown",
   "metadata": {},
   "source": [
    "Next, calculate the number of unique tokens in the vocabulary. Filter out any tokens that are ignored (i.e. \"unused\")."
   ]
  },
  {
   "cell_type": "code",
   "execution_count": null,
   "metadata": {},
   "outputs": [
    {
     "name": "stdout",
     "output_type": "stream",
     "text": [
      "Age stats: {'mean': 18144688.37614148, 'std': 13883171.660255756}\n",
      "Is hierarchical: False\n",
      "Vocab size: 39811\n"
     ]
    }
   ],
   "source": [
    "vocab = [ x for x in config['regular'] if x['type'] != 'unused' ] # remove unused tokens\n",
    "print(\"Age stats:\", config['age_stats'])\n",
    "print(\"Is hierarchical:\", config['is_hierarchical'])\n",
    "print(\"Vocab size:\", len(vocab))"
   ]
  },
  {
   "cell_type": "markdown",
   "metadata": {},
   "source": [
    "There are a total of 39811 unique tokens in the CLMBR-t-base vocabulary."
   ]
  },
  {
   "cell_type": "markdown",
   "metadata": {},
   "source": [
    "# Token Types\n",
    "\n",
    "Let's count the number of tokens of each type."
   ]
  },
  {
   "cell_type": "code",
   "execution_count": 32,
   "metadata": {},
   "outputs": [
    {
     "data": {
      "text/html": [
       "<div>\n",
       "<style scoped>\n",
       "    .dataframe tbody tr th:only-of-type {\n",
       "        vertical-align: middle;\n",
       "    }\n",
       "\n",
       "    .dataframe tbody tr th {\n",
       "        vertical-align: top;\n",
       "    }\n",
       "\n",
       "    .dataframe thead th {\n",
       "        text-align: right;\n",
       "    }\n",
       "</style>\n",
       "<table border=\"1\" class=\"dataframe\">\n",
       "  <thead>\n",
       "    <tr style=\"text-align: right;\">\n",
       "      <th></th>\n",
       "      <th>Token Type</th>\n",
       "      <th>Count</th>\n",
       "    </tr>\n",
       "  </thead>\n",
       "  <tbody>\n",
       "    <tr>\n",
       "      <th>0</th>\n",
       "      <td>code</td>\n",
       "      <td>25667</td>\n",
       "    </tr>\n",
       "    <tr>\n",
       "      <th>2</th>\n",
       "      <td>numeric</td>\n",
       "      <td>11183</td>\n",
       "    </tr>\n",
       "    <tr>\n",
       "      <th>1</th>\n",
       "      <td>text</td>\n",
       "      <td>2961</td>\n",
       "    </tr>\n",
       "  </tbody>\n",
       "</table>\n",
       "</div>"
      ],
      "text/plain": [
       "  Token Type  Count\n",
       "0       code  25667\n",
       "2    numeric  11183\n",
       "1       text   2961"
      ]
     },
     "execution_count": 32,
     "metadata": {},
     "output_type": "execute_result"
    }
   ],
   "source": [
    "# List types of tokens + counts\n",
    "token_types = [ x['type'] for x in vocab ]\n",
    "token_counts = collections.Counter(token_types)\n",
    "df = pd.DataFrame(token_counts.items(), columns=['Token Type', 'Count'])\n",
    "df.sort_values(by='Count', ascending=False, inplace=True)\n",
    "df"
   ]
  },
  {
   "cell_type": "markdown",
   "metadata": {},
   "source": [
    "There are 3 different types of tokens in the vocabulary:\n",
    "    \n",
    "| Token Type | Count |\n",
    "|------------|-------|\n",
    "| code    | 25667 |\n",
    "| numeric     | 11183     |\n",
    "| text    | 2961    |\n",
    "\n",
    "The `code` token type represents a **code without considering any metadata** associated with it. It maps an occurrence of a specific code (e.g. \"LOINC/7094-6\") directly to a token.\n",
    "\n",
    "The `text` token type represents a **categorical variable**. It maps a code + its discrete value (e.g. \"SNOMED/228490006\" with the value \"N\") to a token.\n",
    "\n",
    "The `numeric` token type represents a **numerical variable**. It maps a code + its value in a specific range (e.g. \"LOINC/8867-4\" with a value between [69.0, 76.0]) to a token."
   ]
  },
  {
   "cell_type": "markdown",
   "metadata": {},
   "source": [
    "Here is an example of each token type:"
   ]
  },
  {
   "cell_type": "code",
   "execution_count": 24,
   "metadata": {},
   "outputs": [
    {
     "name": "stdout",
     "output_type": "stream",
     "text": [
      "`Code` token example:  {'code_string': 'SNOMED/3950001', 'text_string': '', 'type': 'code', 'val_end': 0.0, 'val_start': 0.0, 'weight': -0.18811663446051943}\n",
      "`Text` token example:  {'code_string': 'SNOMED/228490006', 'text_string': 'N', 'type': 'text', 'val_end': 0.0, 'val_start': 0.0, 'weight': -0.0353444009671022}\n",
      "`Numeric` token example:  {'code_string': 'LOINC/8867-4', 'text_string': '', 'type': 'numeric', 'val_end': 69.0, 'val_start': -1.7976931348623157e+308, 'weight': -0.007933071663676598}\n"
     ]
    }
   ],
   "source": [
    "code = [ x for x in vocab if x['type'] == 'code' ][0]\n",
    "text = [ x for x in vocab if x['type'] == 'text' ][0]\n",
    "numeric = [ x for x in vocab if x['type'] == 'numeric' ][0]\n",
    "print(\"`Code` token example: \", code)\n",
    "print(\"`Text` token example: \", text)\n",
    "print(\"`Numeric` token example: \", numeric)"
   ]
  },
  {
   "cell_type": "markdown",
   "metadata": {},
   "source": [
    "# Ontologies\n",
    "\n",
    "Let's now count how many tokens are from each OMOP ontology."
   ]
  },
  {
   "cell_type": "code",
   "execution_count": 31,
   "metadata": {},
   "outputs": [
    {
     "data": {
      "text/html": [
       "<div>\n",
       "<style scoped>\n",
       "    .dataframe tbody tr th:only-of-type {\n",
       "        vertical-align: middle;\n",
       "    }\n",
       "\n",
       "    .dataframe tbody tr th {\n",
       "        vertical-align: top;\n",
       "    }\n",
       "\n",
       "    .dataframe thead th {\n",
       "        text-align: right;\n",
       "    }\n",
       "</style>\n",
       "<table border=\"1\" class=\"dataframe\">\n",
       "  <thead>\n",
       "    <tr style=\"text-align: right;\">\n",
       "      <th></th>\n",
       "      <th>Ontology</th>\n",
       "      <th>Count</th>\n",
       "    </tr>\n",
       "  </thead>\n",
       "  <tbody>\n",
       "    <tr>\n",
       "      <th>0</th>\n",
       "      <td>SNOMED</td>\n",
       "      <td>16299</td>\n",
       "    </tr>\n",
       "    <tr>\n",
       "      <th>7</th>\n",
       "      <td>LOINC</td>\n",
       "      <td>13837</td>\n",
       "    </tr>\n",
       "    <tr>\n",
       "      <th>11</th>\n",
       "      <td>RxNorm</td>\n",
       "      <td>4678</td>\n",
       "    </tr>\n",
       "    <tr>\n",
       "      <th>9</th>\n",
       "      <td>CPT4</td>\n",
       "      <td>3728</td>\n",
       "    </tr>\n",
       "    <tr>\n",
       "      <th>8</th>\n",
       "      <td>CARE_SITE</td>\n",
       "      <td>396</td>\n",
       "    </tr>\n",
       "    <tr>\n",
       "      <th>15</th>\n",
       "      <td>RxNorm Extension</td>\n",
       "      <td>255</td>\n",
       "    </tr>\n",
       "    <tr>\n",
       "      <th>19</th>\n",
       "      <td>ICD10PCS</td>\n",
       "      <td>233</td>\n",
       "    </tr>\n",
       "    <tr>\n",
       "      <th>20</th>\n",
       "      <td>ICD9Proc</td>\n",
       "      <td>196</td>\n",
       "    </tr>\n",
       "    <tr>\n",
       "      <th>16</th>\n",
       "      <td>HCPCS</td>\n",
       "      <td>54</td>\n",
       "    </tr>\n",
       "    <tr>\n",
       "      <th>18</th>\n",
       "      <td>ICDO3</td>\n",
       "      <td>52</td>\n",
       "    </tr>\n",
       "    <tr>\n",
       "      <th>12</th>\n",
       "      <td>CVX</td>\n",
       "      <td>41</td>\n",
       "    </tr>\n",
       "    <tr>\n",
       "      <th>17</th>\n",
       "      <td>Cancer Modifier</td>\n",
       "      <td>19</td>\n",
       "    </tr>\n",
       "    <tr>\n",
       "      <th>3</th>\n",
       "      <td>Visit</td>\n",
       "      <td>6</td>\n",
       "    </tr>\n",
       "    <tr>\n",
       "      <th>6</th>\n",
       "      <td>Race</td>\n",
       "      <td>5</td>\n",
       "    </tr>\n",
       "    <tr>\n",
       "      <th>13</th>\n",
       "      <td>OMOP Extension</td>\n",
       "      <td>3</td>\n",
       "    </tr>\n",
       "    <tr>\n",
       "      <th>5</th>\n",
       "      <td>Ethnicity</td>\n",
       "      <td>2</td>\n",
       "    </tr>\n",
       "    <tr>\n",
       "      <th>2</th>\n",
       "      <td>Gender</td>\n",
       "      <td>2</td>\n",
       "    </tr>\n",
       "    <tr>\n",
       "      <th>10</th>\n",
       "      <td>CMS Place of Service</td>\n",
       "      <td>2</td>\n",
       "    </tr>\n",
       "    <tr>\n",
       "      <th>1</th>\n",
       "      <td>Domain</td>\n",
       "      <td>1</td>\n",
       "    </tr>\n",
       "    <tr>\n",
       "      <th>4</th>\n",
       "      <td>Medicare Specialty</td>\n",
       "      <td>1</td>\n",
       "    </tr>\n",
       "    <tr>\n",
       "      <th>14</th>\n",
       "      <td>Condition Type</td>\n",
       "      <td>1</td>\n",
       "    </tr>\n",
       "  </tbody>\n",
       "</table>\n",
       "</div>"
      ],
      "text/plain": [
       "                Ontology  Count\n",
       "0                 SNOMED  16299\n",
       "7                  LOINC  13837\n",
       "11                RxNorm   4678\n",
       "9                   CPT4   3728\n",
       "8              CARE_SITE    396\n",
       "15      RxNorm Extension    255\n",
       "19              ICD10PCS    233\n",
       "20              ICD9Proc    196\n",
       "16                 HCPCS     54\n",
       "18                 ICDO3     52\n",
       "12                   CVX     41\n",
       "17       Cancer Modifier     19\n",
       "3                  Visit      6\n",
       "6                   Race      5\n",
       "13        OMOP Extension      3\n",
       "5              Ethnicity      2\n",
       "2                 Gender      2\n",
       "10  CMS Place of Service      2\n",
       "1                 Domain      1\n",
       "4     Medicare Specialty      1\n",
       "14        Condition Type      1"
      ]
     },
     "execution_count": 31,
     "metadata": {},
     "output_type": "execute_result"
    }
   ],
   "source": [
    "counter = collections.Counter()\n",
    "for code in vocab:\n",
    "    ontology = code['code_string'].split('/')[0]\n",
    "    counter[ontology] += 1\n",
    "df = pd.DataFrame(counter.items(), columns=['Ontology', 'Count'])\n",
    "df.sort_values(by='Count', ascending=False, inplace=True)\n",
    "df"
   ]
  },
  {
   "cell_type": "markdown",
   "metadata": {},
   "source": [
    "SNOMED is the most commonly represented ontology in the CLMBR vocabulary with 16299 derived tokens, followed by LOINC with 13837 and RxNorm with 4678."
   ]
  }
 ],
 "metadata": {
  "kernelspec": {
   "display_name": "base",
   "language": "python",
   "name": "python3"
  },
  "language_info": {
   "codemirror_mode": {
    "name": "ipython",
    "version": 3
   },
   "file_extension": ".py",
   "mimetype": "text/x-python",
   "name": "python",
   "nbconvert_exporter": "python",
   "pygments_lexer": "ipython3",
   "version": "3.10.9"
  }
 },
 "nbformat": 4,
 "nbformat_minor": 2
}
